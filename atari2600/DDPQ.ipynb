{
 "cells": [
  {
   "cell_type": "code",
   "execution_count": null,
   "metadata": {},
   "outputs": [],
   "source": [
    "%load_ext autoreload\n",
    "%autoreload 2"
   ]
  },
  {
   "cell_type": "code",
   "execution_count": null,
   "metadata": {},
   "outputs": [],
   "source": [
    "import gym\n",
    "import numpy as np\n",
    "import keras"
   ]
  },
  {
   "cell_type": "code",
   "execution_count": null,
   "metadata": {},
   "outputs": [],
   "source": [
    "ENV_ID = \"Breakout-v4\"\n",
    "env = gym.make(ENV_ID)\n",
    "frame_shape = (105,80)\n",
    "frame_shape_channel = (105,80,4)\n",
    "n_actions = env.action_space.n"
   ]
  },
  {
   "cell_type": "code",
   "execution_count": null,
   "metadata": {},
   "outputs": [],
   "source": [
    "#network parameters\n",
    "learning_rate = 0.0001\n",
    "gradient_momentum = 0.95\n",
    "min_sq_gradient = 0.01"
   ]
  },
  {
   "cell_type": "code",
   "execution_count": null,
   "metadata": {},
   "outputs": [],
   "source": [
    "def to_grayscale(img):return np.mean(img, axis=2).astype(np.uint8)\n",
    "def downsample(img):return img[::2, ::2]\n",
    "def preprocess(img):return to_grayscale(downsample(img))"
   ]
  },
  {
   "cell_type": "code",
   "execution_count": null,
   "metadata": {},
   "outputs": [],
   "source": [
    "def custom_loss(episode_reward):\n",
    "    def loss(y_true,y_pred):\n",
    "        # feed in y_true as actual action taken\n",
    "        # loss = reward*(-actual*np.log(y_pred)-(1-actual)*np.log(1-y_pred)))\n",
    "        \n",
    "        tmp_pred = keras.layers.Lambda(lambda x: keras.backend.clip(x,0.05,0.95))(y_pred) # we could also do gradient clipping\n",
    "        tmp_loss = keras.layers.Lambda(lambda x:-y_true*keras.backend.log(x)-(1-y_true)*(keras.backend.log(1-x)))(tmp_pred)\n",
    "        # put reward in effect\n",
    "        policy_loss=keras.layers.Multiply()([tmp_loss,episode_reward])\n",
    "        \n",
    "        return policy_loss\n",
    "    return loss"
   ]
  },
  {
   "cell_type": "code",
   "execution_count": null,
   "metadata": {},
   "outputs": [],
   "source": [
    "def create_model():\n",
    "    input_layer = keras.layers.Input(frame_shape_channel)\n",
    "    \n",
    "    h_layer_1 = keras.layers.Conv2D(16, (8, 8), activation=\"relu\", strides=(4, 4))(input_layer)\n",
    "    h_layer_2 = keras.layers.Conv2D(32, (8, 8), activation=\"relu\", strides=(4, 4))(h_layer_1)\n",
    "    \n",
    "    flattened_layer = keras.layers.core.Flatten()(h_layer_2)\n",
    "    \n",
    "    softmax_output = keras.layers.Dense(n_actions,activation='softmax',use_bias=False)(flattened_layer)\n",
    "    ddpg = keras.models.Model(inputs=input_layer,outputs=softmax_output)\n",
    "    \n",
    "    ddpg.summary()\n",
    "    \n",
    "\n",
    "    optimizer = keras.optimizers.RMSprop(lr=learning_rate)\n",
    "    ddpg.compile(optimizer, loss='mse')\n",
    "    \n",
    "    return ddpg"
   ]
  },
  {
   "cell_type": "code",
   "execution_count": null,
   "metadata": {},
   "outputs": [],
   "source": [
    "ddpg = create_model()"
   ]
  },
  {
   "cell_type": "code",
   "execution_count": null,
   "metadata": {},
   "outputs": [],
   "source": [
    "def process_rewards(r_list):\n",
    "    reward_decay=0.99\n",
    "    tmp_r=0\n",
    "    rew=np.zeros_like(r_list,dtype=np.float32)\n",
    "    for i in range(len(r_list)-1,-1,-1):\n",
    "        if r_list[i]==0:\n",
    "            tmp_r=tmp_r*reward_decay\n",
    "            rew[i]=tmp_r\n",
    "        else: \n",
    "            tmp_r = r_list[i]\n",
    "            rew[i]=tmp_r\n",
    "    rew -= np.mean(rew) # subtract by average\n",
    "    rew /= np.std(rew) # divide by std\n",
    "    return rew"
   ]
  },
  {
   "cell_type": "code",
   "execution_count": null,
   "metadata": {},
   "outputs": [],
   "source": [
    "def clip_reward(r):return np.sign(r)"
   ]
  },
  {
   "cell_type": "code",
   "execution_count": null,
   "metadata": {},
   "outputs": [],
   "source": []
  }
 ],
 "metadata": {
  "kernelspec": {
   "display_name": "Python 3",
   "language": "python",
   "name": "python3"
  },
  "language_info": {
   "codemirror_mode": {
    "name": "ipython",
    "version": 3
   },
   "file_extension": ".py",
   "mimetype": "text/x-python",
   "name": "python",
   "nbconvert_exporter": "python",
   "pygments_lexer": "ipython3",
   "version": "3.6.7"
  }
 },
 "nbformat": 4,
 "nbformat_minor": 2
}
